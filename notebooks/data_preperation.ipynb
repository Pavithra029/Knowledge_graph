{
 "cells": [
  {
   "cell_type": "code",
   "execution_count": 1,
   "id": "e179da60-ad2e-4d99-a445-6e5e0e9ed598",
   "metadata": {},
   "outputs": [],
   "source": [
    "import os\n",
    "import pandas as pd\n",
    "import numpy as np\n",
    "from sklearn.preprocessing import LabelEncoder\n",
    "from sklearn.model_selection import train_test_split\n",
    "import pickle"
   ]
  },
  {
   "cell_type": "code",
   "execution_count": 2,
   "id": "5ddb2232-9f14-4d16-b433-5cdb2371cc37",
   "metadata": {},
   "outputs": [],
   "source": [
    "# Dynamic path settings\n",
    "BASE_DIR = os.path.dirname(os.path.dirname(os.path.abspath(\"__file__\")))\n",
    "DATA_DIR = os.path.join(BASE_DIR, \"dataset\")\n",
    "TRAIN_TEST_SPLIT_DIR = os.path.join(BASE_DIR, \"train_test_split\")"
   ]
  },
  {
   "cell_type": "code",
   "execution_count": 3,
   "id": "d7133fcd-94c1-46aa-ad66-7c781128ce62",
   "metadata": {},
   "outputs": [],
   "source": [
    "# Check if directories exist and create if they don't\n",
    "os.makedirs(TRAIN_TEST_SPLIT_DIR, exist_ok=True)"
   ]
  },
  {
   "cell_type": "code",
   "execution_count": 4,
   "id": "fe06774a-9c3b-4979-a9a5-61c044586e2d",
   "metadata": {},
   "outputs": [],
   "source": [
    "# File paths\n",
    "product_csv_path = os.path.join(DATA_DIR, \"product_details.csv\")\n",
    "customer_csv_path = os.path.join(DATA_DIR, \"customer_details.csv\")\n",
    "sales_csv_path = os.path.join(DATA_DIR, \"sales_data.csv\")"
   ]
  },
  {
   "cell_type": "code",
   "execution_count": 5,
   "id": "a581fcd2-619b-4928-9bec-5a6382b2ad22",
   "metadata": {},
   "outputs": [],
   "source": [
    "# Reading CSV files\n",
    "products_df = pd.read_csv(product_csv_path)\n",
    "customers_df = pd.read_csv(customer_csv_path)\n",
    "sales_df = pd.read_csv(sales_csv_path)"
   ]
  },
  {
   "cell_type": "code",
   "execution_count": 6,
   "id": "d5ba592c-a00a-4bd8-87f7-7fa008a51620",
   "metadata": {},
   "outputs": [
    {
     "name": "stdout",
     "output_type": "stream",
     "text": [
      "Products DataFrame missing values:\n",
      " Uniqe Id                     0\n",
      "Product Name                 0\n",
      "Brand Name               10002\n",
      "Asin                     10002\n",
      "Category                   830\n",
      "Upc Ean Code              9968\n",
      "List Price               10002\n",
      "Selling Price              107\n",
      "Quantity                 10002\n",
      "Model Number              1772\n",
      "About Product              273\n",
      "Product Specification     1632\n",
      "Technical Details          790\n",
      "Shipping Weight           1138\n",
      "Product Dimensions        9523\n",
      "Image                        0\n",
      "Variants                  7524\n",
      "Sku                      10002\n",
      "Product Url                  0\n",
      "Stock                    10002\n",
      "Product Details          10002\n",
      "Dimensions               10002\n",
      "Color                    10002\n",
      "Ingredients              10002\n",
      "Direction To Use         10002\n",
      "Is Amazon Seller             0\n",
      "Size Quantity Variant    10002\n",
      "Product Description      10002\n",
      "dtype: int64 \n",
      "\n",
      "Customers DataFrame missing values:\n",
      " Customer ID               0\n",
      "Age                       0\n",
      "Gender                    0\n",
      "Item Purchased            0\n",
      "Category                  0\n",
      "Purchase Amount (USD)     0\n",
      "Location                  0\n",
      "Size                      0\n",
      "Color                     0\n",
      "Season                    0\n",
      "Review Rating             0\n",
      "Subscription Status       0\n",
      "Shipping Type             0\n",
      "Discount Applied          0\n",
      "Promo Code Used           0\n",
      "Previous Purchases        0\n",
      "Payment Method            0\n",
      "Frequency of Purchases    0\n",
      "dtype: int64 \n",
      "\n",
      "Sales DataFrame missing values:\n",
      " user id              295\n",
      "product id           295\n",
      "Interaction type     423\n",
      "Time stamp           295\n",
      "Unnamed: 4          3294\n",
      "dtype: int64 \n",
      "\n"
     ]
    }
   ],
   "source": [
    "# Checking for missing values\n",
    "print(\"Products DataFrame missing values:\\n\", products_df.isnull().sum(), \"\\n\")\n",
    "print(\"Customers DataFrame missing values:\\n\", customers_df.isnull().sum(), \"\\n\")\n",
    "print(\"Sales DataFrame missing values:\\n\", sales_df.isnull().sum(), \"\\n\")"
   ]
  },
  {
   "cell_type": "code",
   "execution_count": 7,
   "id": "3409c151-4426-48c9-abd6-42a8cea8a6aa",
   "metadata": {},
   "outputs": [],
   "source": [
    "# Dropping rows with missing values in specific columns\n",
    "sales_df.dropna(subset=['user id', 'product id', 'Interaction type', 'Time stamp'], inplace=True)"
   ]
  },
  {
   "cell_type": "code",
   "execution_count": 8,
   "id": "0c5deb93-0038-4dda-890a-dbc5c08a8422",
   "metadata": {},
   "outputs": [
    {
     "name": "stdout",
     "output_type": "stream",
     "text": [
      "Products DataFrame:\n",
      "                            Uniqe Id  \\\n",
      "0  4c69b61db1fc16e7013b43fc926e502d   \n",
      "1  66d49bbed043f5be260fa9f7fbff5957   \n",
      "2  2c55cae269aebf53838484b0d7dd931a   \n",
      "3  18018b6bc416dab347b1b7db79994afa   \n",
      "4  e04b990e95bf73bbe6a3fa09785d7cd0   \n",
      "\n",
      "                                        Product Name  Brand Name  Asin  \\\n",
      "0  DB Longboards CoreFlex Crossbow 41\" Bamboo Fib...         NaN   NaN   \n",
      "1  Electronic Snap Circuits Mini Kits Classpack, ...         NaN   NaN   \n",
      "2  3Doodler Create Flexy 3D Printing Filament Ref...         NaN   NaN   \n",
      "3  Guillow Airplane Design Studio with Travel Cas...         NaN   NaN   \n",
      "4                   Woodstock- Collage 500 pc Puzzle         NaN   NaN   \n",
      "\n",
      "                                            Category Upc Ean Code  List Price  \\\n",
      "0  Sports & Outdoors | Outdoor Recreation | Skate...          NaN         NaN   \n",
      "1  Toys & Games | Learning & Education | Science ...          NaN         NaN   \n",
      "2          Toys & Games | Arts & Crafts | Craft Kits          NaN         NaN   \n",
      "3  Toys & Games | Hobbies | Models & Model Kits |...          NaN         NaN   \n",
      "4            Toys & Games | Puzzles | Jigsaw Puzzles          NaN         NaN   \n",
      "\n",
      "  Selling Price  Quantity Model Number  ...  \\\n",
      "0       $237.68       NaN          NaN  ...   \n",
      "1        $99.95       NaN        55324  ...   \n",
      "2        $34.99       NaN          NaN  ...   \n",
      "3        $28.91       NaN          142  ...   \n",
      "4        $17.49       NaN        62151  ...   \n",
      "\n",
      "                                         Product Url Stock Product Details  \\\n",
      "0  https://www.amazon.com/DB-Longboards-CoreFlex-...   NaN             NaN   \n",
      "1  https://www.amazon.com/Electronic-Circuits-Cla...   NaN             NaN   \n",
      "2  https://www.amazon.com/3Doodler-Plastic-Innova...   NaN             NaN   \n",
      "3  https://www.amazon.com/Guillow-Airplane-Design...   NaN             NaN   \n",
      "4  https://www.amazon.com/Woodstock-Collage-500-p...   NaN             NaN   \n",
      "\n",
      "  Dimensions Color Ingredients Direction To Use  Is Amazon Seller  \\\n",
      "0        NaN   NaN         NaN              NaN                 Y   \n",
      "1        NaN   NaN         NaN              NaN                 Y   \n",
      "2        NaN   NaN         NaN              NaN                 Y   \n",
      "3        NaN   NaN         NaN              NaN                 Y   \n",
      "4        NaN   NaN         NaN              NaN                 Y   \n",
      "\n",
      "  Size Quantity Variant  Product Description  \n",
      "0                   NaN                  NaN  \n",
      "1                   NaN                  NaN  \n",
      "2                   NaN                  NaN  \n",
      "3                   NaN                  NaN  \n",
      "4                   NaN                  NaN  \n",
      "\n",
      "[5 rows x 28 columns] \n",
      "\n",
      "Customers DataFrame:\n",
      "    Customer ID  Age Gender Item Purchased  Category  Purchase Amount (USD)  \\\n",
      "0            1   55   Male         Blouse  Clothing                     53   \n",
      "1            2   19   Male        Sweater  Clothing                     64   \n",
      "2            3   50   Male          Jeans  Clothing                     73   \n",
      "3            4   21   Male        Sandals  Footwear                     90   \n",
      "4            5   45   Male         Blouse  Clothing                     49   \n",
      "\n",
      "        Location Size      Color  Season  Review Rating Subscription Status  \\\n",
      "0       Kentucky    L       Gray  Winter            3.1                 Yes   \n",
      "1          Maine    L     Maroon  Winter            3.1                 Yes   \n",
      "2  Massachusetts    S     Maroon  Spring            3.1                 Yes   \n",
      "3   Rhode Island    M     Maroon  Spring            3.5                 Yes   \n",
      "4         Oregon    M  Turquoise  Spring            2.7                 Yes   \n",
      "\n",
      "   Shipping Type Discount Applied Promo Code Used  Previous Purchases  \\\n",
      "0        Express              Yes             Yes                  14   \n",
      "1        Express              Yes             Yes                   2   \n",
      "2  Free Shipping              Yes             Yes                  23   \n",
      "3   Next Day Air              Yes             Yes                  49   \n",
      "4  Free Shipping              Yes             Yes                  31   \n",
      "\n",
      "  Payment Method Frequency of Purchases  \n",
      "0          Venmo            Fortnightly  \n",
      "1           Cash            Fortnightly  \n",
      "2    Credit Card                 Weekly  \n",
      "3         PayPal                 Weekly  \n",
      "4         PayPal               Annually   \n",
      "\n",
      "Sales DataFrame:\n",
      "    user id                        product id Interaction type  \\\n",
      "0      1.0  4c69b61db1fc16e7013b43fc926e502d         purchase   \n",
      "1      2.0  66d49bbed043f5be260fa9f7fbff5957             view   \n",
      "2      3.0  2c55cae269aebf53838484b0d7dd931a             like   \n",
      "3      4.0  18018b6bc416dab347b1b7db79994afa             view   \n",
      "4      5.0  e04b990e95bf73bbe6a3fa09785d7cd0             like   \n",
      "\n",
      "        Time stamp  Unnamed: 4  \n",
      "0  10/10/2023 8:00         NaN  \n",
      "1  11/10/2023 8:00         NaN  \n",
      "2  12/10/2023 8:00         NaN  \n",
      "3  13/10/2023 8:00         NaN  \n",
      "4  14/10/2023 8:00         NaN   \n",
      "\n"
     ]
    }
   ],
   "source": [
    "# Checking the data\n",
    "print(\"Products DataFrame:\\n\", products_df.head(), \"\\n\")\n",
    "print(\"Customers DataFrame:\\n\", customers_df.head(), \"\\n\")\n",
    "print(\"Sales DataFrame:\\n\", sales_df.head(), \"\\n\")"
   ]
  },
  {
   "cell_type": "code",
   "execution_count": 9,
   "id": "0490b36b-59ce-4ec7-bcfc-72fd80b2834a",
   "metadata": {},
   "outputs": [],
   "source": [
    "# Converting timestamp to datetime format\n",
    "try:\n",
    "    sales_df['Time stamp'] = pd.to_datetime(sales_df['Time stamp'], dayfirst=True)\n",
    "except Exception as e:\n",
    "    raise ValueError(f\"Error converting 'Time stamp' to datetime: {e}\")"
   ]
  },
  {
   "cell_type": "code",
   "execution_count": 10,
   "id": "e20d6f8e-0d62-4140-901e-73d093529f2b",
   "metadata": {},
   "outputs": [],
   "source": [
    "# User and product IDs to numeric values Mapping\n",
    "with open(os.path.join(DATA_DIR, 'user_id_map.pkl'), 'rb') as f:\n",
    "    user_id_map = pickle.load(f)\n",
    "with open(os.path.join(DATA_DIR, 'product_id_map.pkl'), 'rb') as f:\n",
    "    product_id_map = pickle.load(f)"
   ]
  },
  {
   "cell_type": "code",
   "execution_count": 11,
   "id": "b196e3f2-441c-4a30-a1d5-1c8a6c86cd83",
   "metadata": {},
   "outputs": [],
   "source": [
    "sales_df['user_id'] = sales_df['user id'].map({v: k for k, v in user_id_map.items()})\n",
    "sales_df['product_id'] = sales_df['product id'].map({v: k for k, v in product_id_map.items()})"
   ]
  },
  {
   "cell_type": "code",
   "execution_count": 12,
   "id": "5e66b65c-4531-48fc-869f-4c5b79fc08d8",
   "metadata": {},
   "outputs": [],
   "source": [
    "# Map interaction types to numeric values\n",
    "interaction_mapping = {'view': 1, 'like': 2, 'purchase': 3}\n",
    "sales_df['interaction_type'] = sales_df['Interaction type'].map(interaction_mapping)"
   ]
  },
  {
   "cell_type": "code",
   "execution_count": 13,
   "id": "54c1f476-5c76-4313-a5f1-f21b9fa0ad9c",
   "metadata": {},
   "outputs": [],
   "source": [
    "# Splitting data into train and test sets ensuring overlap\n",
    "unique_users = sales_df['user_id'].unique()\n",
    "unique_products = sales_df['product_id'].unique()\n",
    "\n",
    "train_users, test_users = train_test_split(unique_users, test_size=0.2, random_state=42)\n",
    "train_products, test_products = train_test_split(unique_products, test_size=0.2, random_state=42)"
   ]
  },
  {
   "cell_type": "code",
   "execution_count": null,
   "id": "94cc70d8-7eba-42af-a32f-063ab23e4806",
   "metadata": {},
   "outputs": [],
   "source": []
  },
  {
   "cell_type": "code",
   "execution_count": null,
   "id": "d6148b58-c801-44e9-bded-21ba8da30488",
   "metadata": {},
   "outputs": [],
   "source": []
  },
  {
   "cell_type": "code",
   "execution_count": null,
   "id": "444e61ce-d506-4185-9418-f92accf3cad0",
   "metadata": {},
   "outputs": [],
   "source": []
  }
 ],
 "metadata": {
  "kernelspec": {
   "display_name": "Python 3 (ipykernel)",
   "language": "python",
   "name": "python3"
  },
  "language_info": {
   "codemirror_mode": {
    "name": "ipython",
    "version": 3
   },
   "file_extension": ".py",
   "mimetype": "text/x-python",
   "name": "python",
   "nbconvert_exporter": "python",
   "pygments_lexer": "ipython3",
   "version": "3.11.4"
  }
 },
 "nbformat": 4,
 "nbformat_minor": 5
}
